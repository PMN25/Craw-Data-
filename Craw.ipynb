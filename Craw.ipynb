{
 "cells": [
  {
   "cell_type": "code",
   "execution_count": 1,
   "id": "cbb102bc-a059-4b67-839d-88cc6d51add2",
   "metadata": {
    "tags": []
   },
   "outputs": [],
   "source": [
    "# Thêm thư viện\n",
    "import pandas as pd\n",
    "from selenium import webdriver\n",
    "from selenium.webdriver.common.by import By\n",
    "from selenium.webdriver.support.select import Select\n",
    "import time\n",
    "import re\n",
    "import requests"
   ]
  },
  {
   "cell_type": "code",
   "execution_count": 2,
   "id": "f560b9ba-1f64-434b-8c06-9a52c70b2128",
   "metadata": {
    "tags": []
   },
   "outputs": [],
   "source": [
    "driver = webdriver.Chrome()"
   ]
  },
  {
   "cell_type": "code",
   "execution_count": 3,
   "id": "3a668b4e-1ddb-48d0-b4de-8c4a574138b2",
   "metadata": {
    "tags": []
   },
   "outputs": [],
   "source": [
    "url = 'https://babycuatoi.vn/xep-hinh-thong-minh'\n",
    "driver.get(url)"
   ]
  },
  {
   "cell_type": "code",
   "execution_count": 4,
   "id": "dbff69db-f67f-47ac-a414-8b82e036bf54",
   "metadata": {
    "tags": []
   },
   "outputs": [],
   "source": [
    "# Lấy dữ liệu cho hết trang\n",
    "while True:\n",
    "    viewmore=driver.find_element(\"xpath\",'//a[@id=\"viewmore\"]')\n",
    "    viewmore.click()\n",
    "    time.sleep(1)\n",
    "    if viewmore.text==\"ĐÃ HẾT DỮ LIỆU\":\n",
    "        break"
   ]
  },
  {
   "cell_type": "code",
   "execution_count": 5,
   "id": "7373a164-16d2-49ce-842e-2a49feeb0e45",
   "metadata": {
    "tags": []
   },
   "outputs": [
    {
     "data": {
      "text/plain": [
       "['Đồ chơi xếp hình nam châm thông minh 64 chi tiết CLB-4',\n",
       " 'Đồ chơi xếp hình nam châm thông minh 48 chi tiết CLB-3',\n",
       " 'Đồ chơi máy gắp thú bông đa năng 5357-2',\n",
       " 'Đồ chơi xếp hình công viên thả bóng vui nhộn 186 chi tiết 6688-123A',\n",
       " 'Đồ chơi xếp hình nông trại thả bóng vui nhộn 243 chi tiết 6688-124A']"
      ]
     },
     "execution_count": 5,
     "metadata": {},
     "output_type": "execute_result"
    }
   ],
   "source": [
    "# Tên sản phẩm\n",
    "xpath = '//div[@class=\"info\"]/a/h3'\n",
    "name = driver.find_elements(by=By.XPATH, value=xpath)\n",
    "name_list = []\n",
    "for i in range(len(name)):\n",
    "    name_list.append(name[i].text)\n",
    "name_list[:5]"
   ]
  },
  {
   "cell_type": "code",
   "execution_count": 6,
   "id": "45185306-5621-4ada-93ee-b27cef5534db",
   "metadata": {
    "tags": []
   },
   "outputs": [
    {
     "data": {
      "text/plain": [
       "['249.000₫ -20%',\n",
       " '189.000₫ -20%',\n",
       " '629.000₫ -20%',\n",
       " '199.000₫ -20%',\n",
       " '319.000₫ -20%']"
      ]
     },
     "execution_count": 6,
     "metadata": {},
     "output_type": "execute_result"
    }
   ],
   "source": [
    "# Giá bán và tỷ lệ giảm giá\n",
    "xpath = '//div[@class=\"box-price\"]'\n",
    "price_rate = driver.find_elements(by=By.XPATH, value=xpath)\n",
    "price_rate_list = []\n",
    "for i in range(len(price_rate)):\n",
    "    price_rate_list.append(price_rate[i].text)\n",
    "price_rate_list[:5]"
   ]
  },
  {
   "cell_type": "code",
   "execution_count": 7,
   "id": "fb33e4ea-6e6a-4caf-9736-4e7409904754",
   "metadata": {
    "tags": []
   },
   "outputs": [
    {
     "data": {
      "text/plain": [
       "['\\n\\t\\t\\t\\t\\t\\t\\t\\t\\tSẢN PHẨM LÀ HÀNG CAO CẤP, CÓ CHỨNG NHẬN CO,CQ xuất VAT FREE\\n\\n\\t\\t\\t\\t\\t\\t- Thương hiệu: BBT GLOBAL\\n\\n\\t\\t\\t\\t\\t\\t- Dành cho bé 3+\\n\\n\\t\\t\\t\\t\\t\\t- Số chi tiết: 64\\n\\n\\t\\t\\t\\t\\t\\t- Chất liệu nhựa nguyên sinh an toàn cho bé\\n\\n\\t\\t\\t\\t\\t\\t- Các chi tiết được gắn nam châm bên trong, giúp liên kết các chi tiết lại với nhau tạo thành hình khối chắc chắn\\n\\n\\t\\t\\t\\t\\t\\t- Các chi tiết được gắp nam châm bên trong cho bé thỏa sức sáng tạo xây dựng các hình không gian, kích thích trí tưởng tượng cho trẻ, bé thông minh hơn\\n\\n\\t\\t\\t\\t\\t\\t- Chất liệu nhựa nguyên sinh an toàn cho bé\\n\\n\\t\\t\\t\\t\\t\\t- Đạt tiêu chuẩn chất lượng Châu ÂU - CE\\n\\n\\t\\t\\t\\t\\t\\t- Có chứng nhận an toàn cho trẻ -  tiêu chuẩnCQ\\n\\t\\t\\t\\t\\t',\n",
       " '\\n\\t\\t\\t\\t\\t\\t\\t\\t\\tSẢN PHẨM LÀ HÀNG CAO CẤP, CÓ CHỨNG NHẬN CO,CQ xuất VAT FREE\\n\\n\\t\\t\\t\\t\\t\\t- Thương hiệu: BBT GLOBAL\\n\\n\\t\\t\\t\\t\\t\\t- Dành cho bé 3+\\n\\n\\t\\t\\t\\t\\t\\t- Số chi tiết: 48\\n\\n\\t\\t\\t\\t\\t\\t- Chất liệu nhựa nguyên sinh an toàn cho bé\\n\\n\\t\\t\\t\\t\\t\\t- Các chi tiết được gắn nam châm bên trong, giúp liên kết các chi tiết lại với nhau tạo thành hình khối chắc chắn\\n\\n\\t\\t\\t\\t\\t\\t- Các chi tiết được gắp nam châm bên trong cho bé thỏa sức sáng tạo xây dựng các hình không gian, kích thích trí tưởng tượng cho trẻ, bé thông minh hơn\\n\\n\\t\\t\\t\\t\\t\\t- Chất liệu nhựa nguyên sinh an toàn cho bé\\n\\n\\t\\t\\t\\t\\t\\t- Đạt tiêu chuẩn chất lượng Châu ÂU - CE\\n\\n\\t\\t\\t\\t\\t\\t- Có chứng nhận an toàn cho trẻ -  tiêu chuẩnCQ\\n\\t\\t\\t\\t\\t',\n",
       " '\\n\\t\\t\\t\\t\\t\\t\\t\\t\\t✔ Thương hiệu: BBT GLOBAL\\n\\n\\t\\t\\t\\t\\t\\t✔ Kích thước: 40cm*30*23cm\\n\\n\\t\\t\\t\\t\\t\\t✔ Máy gắp thú mini gồm có 12 xu, 3 thú bông cao cấp và 8 hộp đựng kẹo lớn, bé có thể cho kẹo vào hộp và gắp để thưởng cho mình, có xu và sạc, có nhạc và đèn phát sáng vui nhộn\\n\\n\\t\\t\\t\\t\\t\\t✔ Dùng cho bé: 2 tuổi trở lên\\n\\n\\t\\t\\t\\t\\t\\t✔ Chất liệu: Nhựa nguyên sinh bền bỉ, thân thiện với trẻ\\n\\n\\t\\t\\t\\t\\t\\t✔ Hàng nhập khẩu tiêu chuẩn châu Âu - CE\\n\\n\\t\\t\\t\\t\\t\\t✔ Chứng nhận của Tổng cục Tiêu chuẩn Đo lường Chất lượng - CQ\\n\\t\\t\\t\\t\\t',\n",
       " '\\n\\t\\t\\t\\t\\t\\t\\t\\t\\t- Thương hiệu: BBT GLOBAL.\\n\\n\\t\\t\\t\\t\\t\\t- Dành cho bé 2+\\n\\n\\t\\t\\t\\t\\t\\t- 186 chi tiết.\\n\\n\\t\\t\\t\\t\\t\\t- Chất liệu nhựa ABS an toàn cho bé.\\n\\n\\t\\t\\t\\t\\t\\t- Các chi tiết lắp ghép giúp bé thỏa sức sáng tạo xây dựng các hình thù, kích thích trí tưởng tượng cho trẻ, bé thông minh hơn.\\n\\n\\t\\t\\t\\t\\t\\t- Chất liệu nhựa nguyên sinh an toàn cho bé.\\n\\n\\t\\t\\t\\t\\t\\t- Đạt tiêu chuẩn chất lượng Châu ÂU - CE.\\n\\n\\t\\t\\t\\t\\t\\t- Có chứng nhận an toàn cho trẻ - tiêu chuẩn CQ.\\n\\t\\t\\t\\t\\t',\n",
       " '\\n\\t\\t\\t\\t\\t\\t\\t\\t\\t- Thương hiệu: BBT Global\\n\\n\\t\\t\\t\\t\\t\\t- Dành cho bé 3+\\n\\n\\t\\t\\t\\t\\t\\t- Kích thước hộp: 44*10*28cm\\n\\n\\t\\t\\t\\t\\t\\t- Số chi tiết: 243\\n\\n\\t\\t\\t\\t\\t\\t- Mô hình công viên sở thú vui nhộn\\n\\n\\t\\t\\t\\t\\t\\t- Đồ chơi xếp hình cao cấp được làm từ nhựa nguyên sinh an toàn cho bé\\n\\n\\t\\t\\t\\t\\t\\t- Đạt tiêu chuẩn chất lượng Châu Âu-CE\\n\\n\\t\\t\\t\\t\\t\\t- Đã qua kiểm định chất lượng an toàn cho bé - CQ\\n\\t\\t\\t\\t\\t',\n",
       " '\\n\\t\\t\\t\\t\\t\\t\\t\\t\\t- Thương hiệu: BBT GLOBAL\\n\\n\\t\\t\\t\\t\\t\\t- Kích thước hộp: 27*27*5.5cm\\n\\n\\t\\t\\t\\t\\t\\t- Dành cho bé 2+\\n\\n\\t\\t\\t\\t\\t\\t- Chất liệu: nhựa nguyên sinh an toàn cho bé\\n\\n\\t\\t\\t\\t\\t\\t- Gồm đoàn tàu 8 toa và bộ số\\n\\t\\t\\t\\t\\t',\n",
       " '\\n\\t\\t\\t\\t\\t\\t\\t\\t\\t- Thương hiệu: BBT Global\\n\\n\\t\\t\\t\\t\\t\\t- Số chi tiết xếp: 45 chi tiết xếp hình thành đoàn tàu kèm sticker dán số và các phép tính cho bé vừa chơi vừa học\\n\\n\\t\\t\\t\\t\\t\\t- Xếp hình thông minh BBT Global được làm từ nhựa nguyên sinh, sản xuất trên dây truyền công  nghệ hiện đại của Châu Âu\\n\\n\\t\\t\\t\\t\\t\\t- Đồ chơi chất lượng cao được sản xuất theo Tiêu chuẩn Châu Âu,có chứng nhận của Tổng cục TCĐL Chất lượng, NK và PP bởi cty BBT Việt Nam, số 1 về đồ chơi trẻ em, đồ chơi cho bé an toàn, thiết bị giáo dục và thiết bị khu vui chơi giải trí, website:babycuatoi.vn- thietbivuichoi.vn\\n\\t\\t\\t\\t\\t',\n",
       " '\\n\\t\\t\\t\\t\\t\\t\\t\\t\\t- Thương hiệu: BBT GLOBAL\\n\\n\\t\\t\\t\\t\\t\\t- Dành cho bé 6+\\n\\n\\t\\t\\t\\t\\t\\t- Số chi tiết: 825\\n\\n\\t\\t\\t\\t\\t\\t- Kích thước hộp: 40*5*32cm\\n\\n\\t\\t\\t\\t\\t\\t- Mô hình cảnh sát 3 trong 1: Xe cảnh sát cỡ lớn, máy bay chiến đấu, robot. Ngoài ra còn có thể lắp ráp nhiều các xe tăng, thuyền chiến, trực thăng 8in1. Phát triển khả năng tư duy và óc sáng tạo cho trẻ. Các bé trai vô cùng thích thú khi nhận được món quà này\\n\\n\\t\\t\\t\\t\\t\\t- Chất liệu: nhựa nguyên sinh an toàn\\n\\n\\t\\t\\t\\t\\t\\t- Đạt tiêu chuẩn chất lượng Châu Âu - CE\\n\\n\\t\\t\\t\\t\\t\\t- Có chứng nhận an toàn của tổng cục tiêu chuẩn đo lường chất lượng Việt Nam - CQ\\n\\t\\t\\t\\t\\t',\n",
       " '\\n\\t\\t\\t\\t\\t\\t\\t\\t\\t✪ Thương hiệu: BBTGlobal \\n\\n\\t\\t\\t\\t\\t\\t✪ Độ tuổi sử dụng: 3+, gồm 48 chi tiết cho bé thỏa thích xếp hình và chơi thả bóng\\n\\n\\t\\t\\t\\t\\t\\t✪ Đồ chơi chất lượng cao được sản xuất theo Tiêu chuẩn Châu Âu,có chứng nhận của Tổng cục TCĐL Chất lượng, NK và PP bởi cty BBT Việt Nam, số 1 về đồ chơi trẻ em, đồ chơi cho bé an toàn, thiết bị giáo dục và thiết bị khu vui chơi giải trí, website:babycuatoi.vn - thietbivuichoi.vn\\n\\t\\t\\t\\t\\t',\n",
       " '\\n\\t\\t\\t\\t\\t\\t\\t\\t\\t- Thương hiệu: BBT GLOBAL\\n\\n\\t\\t\\t\\t\\t\\t- Dành cho bé 3+\\n\\n\\t\\t\\t\\t\\t\\t- Kích thước: 72*46*49cm\\n\\n\\t\\t\\t\\t\\t\\t- Trọn bộ gồm: Bàn 2 mặt Lego và mặt nhẵn, Ghế ngồi tai thỏ, 342 khối xếp hình cho bé thỏa sức sáng tạo, kích thích tư duy cho trẻ\\n\\n\\t\\t\\t\\t\\t\\t- Chất liệu: nhựa nguyên sinh an toàn cho bé\\n\\n\\t\\t\\t\\t\\t\\t- Bàn Lego cho bé đạt tiêu chuẩn chất lượng Châu Âu - CE\\n\\n\\t\\t\\t\\t\\t\\t- Có chứng nhận an toàn cho bé - CQ\\n\\t\\t\\t\\t\\t',\n",
       " '\\n\\t\\t\\t\\t\\t\\t\\t\\t\\t- Thương hiệu: BBT Global\\n\\n\\t\\t\\t\\t\\t\\t- Kích thước bàn: 61*61*52cm, ghế: 28*28*45cm\\n\\n\\t\\t\\t\\t\\t\\t- Dành cho bé: 1-10 tuổi\\n\\n\\t\\t\\t\\t\\t\\t- Mặt bàn 2 trong 1, tích hợp mặt bàn chơi lego cho bé\\n\\n\\t\\t\\t\\t\\t\\t- Ngoài ra ba mẹ có thể dùng làm bàn ăn, bàn học và bạn ngồi chơi cho bé (dùng mặt bàn nhẵn)\\n\\n\\t\\t\\t\\t\\t\\t- Màu sắc: kết hợp 3 màu trắng - vàng - xanh vô cùng trang nhã\\n\\n\\t\\t\\t\\t\\t\\t- Trọn bộ gồm: 1 bàn + 2 ghế + 4 hộp chứa đồ + 100 chi tiết xếp hình cỡ lớn\\n\\n\\t\\t\\t\\t\\t\\t- Chất liệu: nhựa nguyên sinh an toàn cho bé\\n\\n\\t\\t\\t\\t\\t\\t- Tiêu chuẩn: hàng xuất Châu Âu\\n\\t\\t\\t\\t\\t',\n",
       " '\\n\\t\\t\\t\\t\\t\\t\\t\\t\\t- Thương hiệu: BBT Global\\n\\n\\t\\t\\t\\t\\t\\t- Kích thước hộp: 42 x 7 x 30cm\\n\\n\\t\\t\\t\\t\\t\\t- Số chi tiết: 560 chi tiết bé thỏa sức lắp ráp\\n\\n\\t\\t\\t\\t\\t\\t- Dành cho bé 6+\\n\\n\\t\\t\\t\\t\\t\\t- Chất liệu: nhựa nguyên sinh an toàn cho bé\\n\\n\\t\\t\\t\\t\\t\\t- Sản phẩm chất lượng cao được sản xuất theo tiêu chuẩn xuất khẩu Châu Âu\\n\\n\\t\\t\\t\\t\\t\\t- Đạt tiêu chuẩn: CE, CR, CQ - đảm bảo an toàn cho bé\\n\\t\\t\\t\\t\\t',\n",
       " '\\n\\t\\t\\t\\t\\t\\t\\t\\t\\t- Thương hiệu: BBT GLOBAL\\n\\n\\t\\t\\t\\t\\t\\t- Kích thước bàn: 48.5*30.5*27.5cm\\n\\n\\t\\t\\t\\t\\t\\t- Chất liệu: nhựa nguyên sinh an toàn cho bé\\n\\n\\t\\t\\t\\t\\t\\t- Dành cho bé 2+\\n\\n\\t\\t\\t\\t\\t\\t- Bàn chơi lego đa năng cho bé ngồi học, ngồi ăn, chơi đồ chơi nước\\n\\n\\t\\t\\t\\t\\t\\t- Mặt bàn có nhiều ngăn rộng cho bé cất đồ chơi sau khi chơi xong\\n\\t\\t\\t\\t\\t',\n",
       " '\\n\\t\\t\\t\\t\\t\\t\\t\\t\\t- Thương hiệu: BBT Global\\n\\n\\t\\t\\t\\t\\t\\t- Kích thước bàn: 42x32x35cm, Ghế ngồi: 21x21x38cm\\n\\n\\t\\t\\t\\t\\t\\t- Kích thước hộp đựng: 54x9x43cm\\n\\n\\t\\t\\t\\t\\t\\t- Dành cho bé: 2+\\n\\n\\t\\t\\t\\t\\t\\t- Mặt bàn 2 trong 1, tích hợp mặt bàn chơi lego cho bé\\n\\n\\t\\t\\t\\t\\t\\t- Ngoài ra ba mẹ có thể dùng làm bàn ăn, bàn học và bạn ngồi chơi cho bé (dùng mặt bàn nhẵn)\\n\\n\\t\\t\\t\\t\\t\\t- Màu sắc: kết hợp 3 màu trắng - vàng - xanh vô cùng trang nhã\\n\\n\\t\\t\\t\\t\\t\\t- Trọn bộ gồm: 1 bàn + 1 ghế + 4 hộp chứa đồ + 105 chi tiết xếp hình cỡ lớn\\n\\n\\t\\t\\t\\t\\t\\t- Chất liệu: nhựa nguyên sinh an toàn cho bé\\n\\n\\t\\t\\t\\t\\t\\t- Tiêu chuẩn: hàng cao cấp xuất Châu Âu -CE\\n\\t\\t\\t\\t\\t',\n",
       " '\\n\\t\\t\\t\\t\\t\\t\\t\\t\\t- Thương hiệu: BBT GLOBAL.\\n\\n\\t\\t\\t\\t\\t\\t\\n\\n\\t\\t\\t\\t\\t\\t- Dành cho bé 6+\\n\\n\\t\\t\\t\\t\\t\\t\\n\\n\\t\\t\\t\\t\\t\\t- 564 chi tiết.\\n\\n\\t\\t\\t\\t\\t\\t\\n\\n\\t\\t\\t\\t\\t\\t- Chất liệu nhựa ABS an toàn cho bé.\\n\\n\\t\\t\\t\\t\\t\\t\\n\\n\\t\\t\\t\\t\\t\\t- Bộ đồ chơi gồm một xe thám hiểm vũ trụ và 1 tên lửa có giá đỡ.\\n\\n\\t\\t\\t\\t\\t\\t\\n\\n\\t\\t\\t\\t\\t\\t- Các chi tiết ghép nối giúp bé thỏa sức sáng tạo xây dựng các hình không gian, kích thích trí tưởng tượng cho trẻ, bé thông minh hơn.\\n\\n\\t\\t\\t\\t\\t\\t\\n\\n\\t\\t\\t\\t\\t\\t- Chất liệu nhựa nguyên sinh an toàn cho bé.\\n\\n\\t\\t\\t\\t\\t\\t\\n\\n\\t\\t\\t\\t\\t\\t- Đạt tiêu chuẩn chất lượng Châu ÂU - CE.\\n\\n\\t\\t\\t\\t\\t\\t\\n\\n\\t\\t\\t\\t\\t\\t- Có chứng nhận an toàn cho trẻ - tiêu chuẩn CQ.\\n\\t\\t\\t\\t\\t',\n",
       " '\\n\\t\\t\\t\\t\\t\\t\\t\\t\\t- Thương hiệu: BBT GLOBAL.\\n\\n\\t\\t\\t\\t\\t\\t- Dành cho bé 6+\\n\\n\\t\\t\\t\\t\\t\\t- 906 chi tiết.\\n\\n\\t\\t\\t\\t\\t\\t- Chất liệu nhựa ABS an toàn cho bé.\\n\\n\\t\\t\\t\\t\\t\\t- Bộ đồ chơi 8 trong 1 có thể lắp 1 chiếc tàu sân bay to hoặc 8 chiếc máy bay, tàu, xe khác.\\n\\n\\t\\t\\t\\t\\t\\t- Các chi tiết ghép nối giúp bé thỏa sức sáng tạo xây dựng các hình không gian, kích thích trí tưởng tượng cho trẻ, bé thông minh hơn.\\n\\n\\t\\t\\t\\t\\t\\t- Chất liệu nhựa nguyên sinh an toàn cho bé.\\n\\n\\t\\t\\t\\t\\t\\t- Đạt tiêu chuẩn chất lượng Châu ÂU - CE.\\n\\n\\t\\t\\t\\t\\t\\t- Có chứng nhận an toàn cho trẻ - tiêu chuẩn CQ.\\n\\t\\t\\t\\t\\t',\n",
       " '\\n\\t\\t\\t\\t\\t\\t\\t\\t\\t- Thương hiệu: BBT Global\\n\\n\\t\\t\\t\\t\\t\\t- Kích thước: 16,5 x 5 x 19,5cm\\n\\n\\t\\t\\t\\t\\t\\t- Bao gồm: Các mảnh ghép và tờ hướng dẫn lắp ráp\\n\\n\\t\\t\\t\\t\\t\\t- Dành cho bé 6+\\n\\n\\t\\t\\t\\t\\t\\t- Chất liệu: nhựa nguyên sinh an toàn cho bé\\n\\n\\t\\t\\t\\t\\t\\t- Sản phẩm chất lượng cao được sản xuất theo tiêu chuẩn xuất khẩu Châu Âu\\n\\n\\t\\t\\t\\t\\t\\t- Đạt tiêu chuẩn: CE, CR, CQ - đảm bảo an toàn cho bé\\n\\t\\t\\t\\t\\t',\n",
       " '\\n\\t\\t\\t\\t\\t\\t\\t\\t\\t\\n\\t\\t\\t\\t\\t',\n",
       " '\\n\\t\\t\\t\\t\\t\\t\\t\\t\\t- Thương hiệu: BBTGlobal \\n\\n\\t\\t\\t\\t\\t\\t- Gồm 216 chi tiết dành cho bé xếp hình lâu đài băng tuyết của công chúa ELSA trong bộ phim hoạt hình nổi tiếng FROZEN\\n\\n\\t\\t\\t\\t\\t\\t- Đồ chơi chất lượng cao được sản xuất theo Tiêu chuẩn Châu Âu,có chứng nhận của Tổng cục TCĐL Chất lượng, NK và PP bởi cty BBT Việt Nam, số 1 về đồ chơi trẻ em, đồ chơi cho bé an toàn, thiết bị giáo dục và thiết bị khu vui chơi giải trí, website:babycuatoi.vn\\n\\t\\t\\t\\t\\t',\n",
       " '\\n\\t\\t\\t\\t\\t\\t\\t\\t\\t✔ Mẫu đồ chơi lắp ráp mô hình 3D kiểu mới, giúp trẻ sáng tạo, kích thích trí tưởng tượng\\n\\n\\t\\t\\t\\t\\t\\t✔ Kích thước : 19x15.7x19.5cm\\n\\n\\t\\t\\t\\t\\t\\t✔ Chất liệu: \\n\\n\\t\\t\\t\\t\\t\\t✔ Hàng nhập khẩu đạt tiêu chuẩn Châu Âu (CE)\\n\\n\\t\\t\\t\\t\\t\\t✔ Chứng nhận an toàn của Tổng cục Tiêu chuẩn Đo lường Chất lượng (CQ)\\n\\t\\t\\t\\t\\t',\n",
       " '\\n\\t\\t\\t\\t\\t\\t\\t\\t\\t- Thương hiệu: BBT Global\\n\\n\\t\\t\\t\\t\\t\\t- Độ tuổi: 3+\\n\\n\\t\\t\\t\\t\\t\\t- Với 14 chi tiết cho bé lắp 2 chiếc xe ô tô xinh xắn\\n\\n\\t\\t\\t\\t\\t\\t- Chất liệu: nhựa nguyên sinh an toàn cho bé, cạnh có nam châm giúp các chi tiết liên kết với nhau\\n\\t\\t\\t\\t\\t',\n",
       " '\\n\\t\\t\\t\\t\\t\\t\\t\\t\\t✪ Thương hiệu: BBT Global\\n\\n\\t\\t\\t\\t\\t\\t✪ KT hộp: 20*16*5cm Với 115 chi tiết nhỏ để bé thỏa sức sáng tạo, rèn luyện tư duyƯ\\n\\n\\t\\t\\t\\t\\t\\t✪ Độ tuổi sử dụng: 6+\\n\\n\\t\\t\\t\\t\\t\\t✪ Xếp hình thông minh được làm từ nhựa nguyên sinh nhập khẩu từ Hàn Quốc, sản xuất trên dây truyền công nghệ hiện đại của Châu Âu \\n\\n\\t\\t\\t\\t\\t\\t✪ Đồ chơi chất lượng cao được sản xuất theo Tiêu chuẩn Châu Âu,có chứng nhận của Tổng cục TCĐL Chất lượng, NK và PP bởi cty BBT Việt Nam, số 1 về đồ chơi trẻ em, đồ chơi cho bé an toàn, thiết bị giáo dục và thiết bị khu vui chơi giải\\n\\t\\t\\t\\t\\t',\n",
       " '\\n\\t\\t\\t\\t\\t\\t\\t\\t\\t- Thương hiệu: BBT Global\\n\\n\\t\\t\\t\\t\\t\\t- Kích thước: 22.5x18x1.1cm\\n\\n\\t\\t\\t\\t\\t\\t- Chất liệu: gỗ an toàn\\n\\n\\t\\t\\t\\t\\t\\t- Dành cho bé từ 1.5 tuổi trở lên\\n\\n\\t\\t\\t\\t\\t\\t- Có các chủ đề khác nhau: xe cộ, các chữ số, rau củ quả...\\n\\n\\t\\t\\t\\t\\t\\t- Sản phẩm được sản xuất theo tiêu chuẩn xuất khẩu Châu Âu (CE)\\n\\n\\t\\t\\t\\t\\t\\t- Có chứng nhận chất lượng, đảm bảo an toàn cho bé (CQ)\\n\\t\\t\\t\\t\\t',\n",
       " '\\n\\t\\t\\t\\t\\t\\t\\t\\t\\t- Thương hiệu: BBT Global\\n\\n\\t\\t\\t\\t\\t\\t- Kích thước bàn: 42x32x35cm, Ghế ngồi: 21x21x38cm\\n\\n\\t\\t\\t\\t\\t\\t- Kích thước hộp đựng: 54x9x43cm\\n\\n\\t\\t\\t\\t\\t\\t- Dành cho bé: 2+\\n\\n\\t\\t\\t\\t\\t\\t- Mặt bàn 2 trong 1, tích hợp mặt bàn chơi lego cho bé\\n\\n\\t\\t\\t\\t\\t\\t- Ngoài ra ba mẹ có thể dùng làm bàn ăn, bàn học và bạn ngồi chơi cho bé (dùng mặt bàn nhẵn)\\n\\n\\t\\t\\t\\t\\t\\t- Màu sắc: kết hợp 3 màu trắng - vàng - xanh vô cùng trang nhã\\n\\n\\t\\t\\t\\t\\t\\t- Trọn bộ gồm: 1 bàn + 1 ghế + 4 hộp chứa đồ + 105 chi tiết xếp hình cỡ lớn\\n\\n\\t\\t\\t\\t\\t\\t- Chất liệu: nhựa nguyên sinh an toàn cho bé\\n\\n\\t\\t\\t\\t\\t\\t- Tiêu chuẩn: hàng cao cấp xuất Châu Âu -CE\\n\\t\\t\\t\\t\\t',\n",
       " '\\n\\t\\t\\t\\t\\t\\t\\t\\t\\t- Thương hiệu: BBT Global\\n\\n\\t\\t\\t\\t\\t\\t- Kích thước bàn: 56*43*43cm, ghế: 28*28*45cm\\n\\n\\t\\t\\t\\t\\t\\t- Kích thước hộp: 58*22*44cm\\n\\n\\t\\t\\t\\t\\t\\t- Trọn bộ gồm: 1 bàn + 1 ghế + 2 hộp chứa đồ + 60 chi tiết xếp hình cỡ lớn\\n\\n\\t\\t\\t\\t\\t\\t- Mặt bàn đa năng cho bé chơi, 1 mặt cho bé chơi lego, 1 mặt trơn cho bé làm bàn ăn, bàn học và bàn ngồi chơi\\n\\n\\t\\t\\t\\t\\t\\t- Dưới mặt bàn sẽ là 1 ngăn đựng đồ lớn cho bé đựng đồ chơi logo vô cùng tiện lợi\\n\\n\\t\\t\\t\\t\\t\\t- Chất liệu: nhựa nguyên sinh an toàn cho bé\\n\\n\\t\\t\\t\\t\\t\\t- Sản phẩm đạt tiêu chuẩn: EU(xuất Châu Âu), CR (Nhập khẩu về VN), CQ(kiểm định an toàn cho trẻ)\\n\\t\\t\\t\\t\\t',\n",
       " '\\n\\t\\t\\t\\t\\t\\t\\t\\t\\t\\n\\t\\t\\t\\t\\t',\n",
       " '\\n\\t\\t\\t\\t\\t\\t\\t\\t\\tThương hiệu: BBT Global\\n\\n\\t\\t\\t\\t\\t\\tSố gạch xếp: 13 viên\\n\\n\\t\\t\\t\\t\\t\\tXếp hình thông minh BBT Global được làm từ nhựa nguyên sinh nhập khẩu từ Hàn Quốc, sản xuất trên dây truyền công  nghệ hiện đại của Châu Âu\\n\\n\\t\\t\\t\\t\\t\\t✪ Đồ chơi chất lượng cao được sản xuất theo Tiêu chuẩn Châu Âu,có chứng nhận của Tổng cục TCĐL Chất lượng, NK và PP bởi cty BBT Việt Nam, số 1 về đồ chơi trẻ em, đồ chơi cho bé an toàn, thiết bị giáo dục và thiết bị khu vui chơi giải trí, website:babycuatoi.vn- thietbivuichoi.vn\\n\\t\\t\\t\\t\\t',\n",
       " '\\n\\t\\t\\t\\t\\t\\t\\t\\t\\t- Thương hiệu: BBT Global\\n\\n\\t\\t\\t\\t\\t\\t- Kích thước: 42,5 x 6,8 x 32,8cm\\n\\n\\t\\t\\t\\t\\t\\t- Bao gồm: Các mảnh ghép và tờ hướng dẫn lắp ráp\\n\\n\\t\\t\\t\\t\\t\\t- Dành cho bé 6+\\n\\n\\t\\t\\t\\t\\t\\t- Chất liệu: nhựa nguyên sinh an toàn cho bé\\n\\n\\t\\t\\t\\t\\t\\t- Sản phẩm chất lượng cao được sản xuất theo tiêu chuẩn xuất khẩu Châu Âu\\n\\n\\t\\t\\t\\t\\t\\t- Đạt tiêu chuẩn: CE, CR, CQ - đảm bảo an toàn cho bé\\n\\t\\t\\t\\t\\t',\n",
       " '\\n\\t\\t\\t\\t\\t\\t\\t\\t\\t✪ Thương hiệu: BBT Global\\n\\n\\t\\t\\t\\t\\t\\t✪ Tuổi:  6+ gồm 98 chi tiết, KT hộp đựng: 20×16×4.5CM, có thể xếp thành 1 phòng riêng cho bé với đàn piano, giường ngủ và tủ góc búp bê như hình minh họa\\n\\n\\t\\t\\t\\t\\t\\t✪ Xếp hình thông minh được làm từ nhựa nguyên sinh nhập khẩu từ Hàn Quốc, sản xuất trên dây truyền công nghệ hiện đại của Châu Âu \\n\\n\\t\\t\\t\\t\\t\\t✪ Đồ chơi chất lượng cao được sản xuất theo Tiêu chuẩn Châu Âu,có chứng nhận của Tổng cục TCĐL Chất lượng, NK và PP bởi cty BBT Việt Nam, số 1 về đồ chơi trẻ em, đồ chơi cho bé an toàn,\\n\\t\\t\\t\\t\\t',\n",
       " '\\n\\t\\t\\t\\t\\t\\t\\t\\t\\t- Thương hiệu: BBT Global\\n\\n\\t\\t\\t\\t\\t\\t- Kích thước: 16,5 x 5 x 19,5cm\\n\\n\\t\\t\\t\\t\\t\\t- Bao gồm: Các mảnh ghép và tờ hướng dẫn lắp ráp\\n\\n\\t\\t\\t\\t\\t\\t- Dành cho bé 5+\\n\\n\\t\\t\\t\\t\\t\\t- Chất liệu: nhựa nguyên sinh an toàn cho bé\\n\\n\\t\\t\\t\\t\\t\\t- Sản phẩm chất lượng cao được sản xuất theo tiêu chuẩn xuất khẩu Châu Âu\\n\\n\\t\\t\\t\\t\\t\\t- Đạt tiêu chuẩn: CE, CR, CQ - đảm bảo an toàn cho bé\\n\\t\\t\\t\\t\\t',\n",
       " '\\n\\t\\t\\t\\t\\t\\t\\t\\t\\tThương hiệu: BBT Global\\n\\n\\t\\t\\t\\t\\t\\tBao gồm : 21 chi tiết xếp hình\\n\\n\\t\\t\\t\\t\\t\\tĐộ tuổi : 3+\\n\\n\\t\\t\\t\\t\\t\\tKích thước hộp:\\xa032-28,5-9cm\\n\\n\\t\\t\\t\\t\\t\\tChất liệu: nhựa nguyên sinh an toàn cho bé\\n\\t\\t\\t\\t\\t',\n",
       " '\\n\\t\\t\\t\\t\\t\\t\\t\\t\\t- Chất liệu: Mô hình được làm từ xốp EPS tráng 2 lớp giấy\\n\\n\\t\\t\\t\\t\\t\\t- Lắp ráp hình 3D mô phỏng, kích thích trí tưởng tượng cho bé \\n\\n\\t\\t\\t\\t\\t\\t- Tháo lắp dễ dàng, mô hình ngôi nhà màu hồng 2 tầng tuyệt đẹp\\n\\n\\t\\t\\t\\t\\t\\t- Mỗi mô hình gồm 4 tấm chi tiết dập sẵn với kích thước mỗi tấm 29x21cm - đây là SIZE TO NHẤT\\n\\t\\t\\t\\t\\t',\n",
       " '\\n\\t\\t\\t\\t\\t\\t\\t\\t\\t- Thương hiệu: BBT GLOBAL\\n\\n\\t\\t\\t\\t\\t\\t- Kích thước sau khi xếp thành khối: 50*29*27cm\\n\\n\\t\\t\\t\\t\\t\\t- Dành cho bé: 3+\\n\\n\\t\\t\\t\\t\\t\\t- Chất liệu: nhựa nguyên sinh đảm bảo an toàn cho bé\\n\\n\\t\\t\\t\\t\\t\\t- Cho bé chơi xếp hình khu rừng và muôn thú sau đó bé được chơi thử thách thả bóng, dẫn bóng về đích với thời gian nhanh nhất với 8 trái bóng sắc màu\\n\\t\\t\\t\\t\\t',\n",
       " '\\n\\t\\t\\t\\t\\t\\t\\t\\t\\t✪ Hãng sản xuất: Heanim Hàn Quốc\\n\\n\\t\\t\\t\\t\\t\\t✪ Giá chưa bao gồm VAT\\n\\n\\t\\t\\t\\t\\t\\t✪ Số chi tiết: 4 chi tiết\\n\\n\\t\\t\\t\\t\\t\\t✪ Thường được kết hợp với bộ xếp hình HN993 cho bé thỏa sức sáng tạo, xếp hình ngôi nhà cho bé cực xinh\\n\\n\\t\\t\\t\\t\\t\\t✪ Đồ chơi chất lượng cao được sản xuất theo Tiêu chuẩn Châu Âu,có chứng nhận của Tổng cục TCĐL Chất lượng, NK và PP bởi cty BBT Việt Nam, số 1 về đồ chơi trẻ em, đồ chơi cho bé an toàn, thiết bị giáo dục và thiết bị khu vui chơi giải trí, website:babycuatoi.vn- thietbivuichoi.vn\\n\\t\\t\\t\\t\\t',\n",
       " '\\n\\t\\t\\t\\t\\t\\t\\t\\t\\t✪ Thương hiệu: BBTGlobal \\n\\n\\t\\t\\t\\t\\t\\t✪ Độ tuổi sử dụng: 3+, gồm nhiều chi tiết cho bé thỏa thích sáng tạo\\n\\n\\t\\t\\t\\t\\t\\t✪ Đồ chơi chất lượng cao được sản xuất theo Tiêu chuẩn Châu Âu,có chứng nhận của Tổng cục TCĐL Chất lượng, NK và PP bởi cty BBT Việt Nam, số 1 về đồ chơi trẻ em, đồ chơi cho bé an toàn, thiết bị giáo dục và thiết bị khu vui chơi giải trí, website:babycuatoi.vn - thietbivuichoi.vn\\n\\t\\t\\t\\t\\t',\n",
       " '\\n\\t\\t\\t\\t\\t\\t\\t\\t\\t- Thương hiệu: BBT Global\\n\\n\\t\\t\\t\\t\\t\\t- Kích thước bàn: 56*43*43cm, ghế: 28*28*45cm\\n\\n\\t\\t\\t\\t\\t\\t- Kích thước hộp: 58*22*44cm\\n\\n\\t\\t\\t\\t\\t\\t- Trọn bộ gồm: 1 bàn + 2 ghế + 4 hộp chứa đồ + 60 chi tiết xếp hình cỡ lớn\\n\\n\\t\\t\\t\\t\\t\\t- Mặt bàn đa năng cho bé chơi, 1 mặt cho bé chơi lego, 1 mặt trơn cho bé làm bàn ăn, bàn học và bàn ngồi chơi\\n\\n\\t\\t\\t\\t\\t\\t- Dưới mặt bàn sẽ là 1 ngăn đựng đồ lớn cho bé đựng đồ chơi logo vô cùng tiện lợi\\n\\n\\t\\t\\t\\t\\t\\t- Chất liệu: nhựa nguyên sinh an toàn cho bé\\n\\n\\t\\t\\t\\t\\t\\t- Sản phẩm đạt tiêu chuẩn: EU(xuất Châu Âu), CR (Nhập khẩu về VN), CQ(kiểm định an toàn cho trẻ)\\n\\t\\t\\t\\t\\t',\n",
       " '\\n\\t\\t\\t\\t\\t\\t\\t\\t\\t✪ Thương hiệu: BBT Global\\n\\n\\t\\t\\t\\t\\t\\t✪ KT hộp: 26*21*6cm. Với 154 chi tiết nhỏ để bé thỏa sức sáng tạo, rèn luyện tư duy\\n\\n\\t\\t\\t\\t\\t\\t✪ Độ tuổi sử dụng: 6+\\n\\n\\t\\t\\t\\t\\t\\t✪ Xếp hình thông minh COGO được làm từ nhựa nguyên sinh nhập khẩu từ Hàn Quốc, sản xuất trên dây truyền công nghệ hiện đại của Châu Âu \\n\\n\\t\\t\\t\\t\\t\\t✪ Đồ chơi chất lượng cao được sản xuất theo Tiêu chuẩn Châu Âu,có chứng nhận của Tổng cục TCĐL Chất lượng, NK và PP bởi cty BBT Việt Nam, số 1 về đồ chơi trẻ em, đồ chơi cho bé an toàn, thiết bị giáo dục và thiết bị khu vui chơi\\n\\t\\t\\t\\t\\t',\n",
       " '\\n\\t\\t\\t\\t\\t\\t\\t\\t\\t\\n\\t\\t\\t\\t\\t',\n",
       " '\\n\\t\\t\\t\\t\\t\\t\\t\\t\\t- Chất liệu: Mô hình được làm từ xốp EPS tráng 2 lớp giấy\\n\\n\\t\\t\\t\\t\\t\\t- Lắp ráp hình 3D mô phỏng, kích thích trí tưởng tượng cho bé \\n\\n\\t\\t\\t\\t\\t\\t- Tháo lắp dễ dàng, mô hình máy bay quân sự được nhiều bé trai yêu thích, bổ sung vào bộ sưu tập mô hình của mình\\n\\n\\t\\t\\t\\t\\t\\t- Mỗi mô hình gồm 4 tấm chi tiết dập sẵn với kích thước mỗi tấm 29x21cm - đây là SIZE TO NHẤT\\n\\t\\t\\t\\t\\t',\n",
       " '\\n\\t\\t\\t\\t\\t\\t\\t\\t\\t- Thương hiệu: BBT Global\\n\\n\\t\\t\\t\\t\\t\\t- Độ tuổi: 3+\\n\\n\\t\\t\\t\\t\\t\\t- Với 40 chi tiết cho bé thỏa sức xếp hình ngôi nhà, vòng quay mặt trời...\\n\\n\\t\\t\\t\\t\\t\\t- Chất liệu: nhựa nguyên sinh an toàn cho bé, cạnh có nam châm giúp các chi tiết liên kết với nhau\\n\\t\\t\\t\\t\\t',\n",
       " '\\n\\t\\t\\t\\t\\t\\t\\t\\t\\t✪ Thương hiệu: BBTGlobal \\n\\n\\t\\t\\t\\t\\t\\t✪ tuổi sử dụng: 3+ gồm 92 viên gạch cho bé thỏa sức xếp hình\\n\\n\\t\\t\\t\\t\\t\\t✪ Xếp hình thông minh cho bé 5238 được làm từ nhựa nguyên sinh nhập khẩu từ Hàn Quốc, sản xuất trên dây truyền công nghệ hiện đại của Châu Âu \\n\\n\\t\\t\\t\\t\\t\\t✪ Đồ chơi chất lượng cao được sản xuất theo Tiêu chuẩn Châu Âu,có chứng nhận của Tổng cục TCĐL Chất lượng, NK và PP bởi cty BBT Việt Nam, số 1 về đồ chơi trẻ em, đồ chơi cho bé an toàn, thiết bị giáo dục và thiết bị khu vui chơi giải trí, website:babycuatoi.vn\\n\\t\\t\\t\\t\\t',\n",
       " '\\n\\t\\t\\t\\t\\t\\t\\t\\t\\t\\n\\t\\t\\t\\t\\t',\n",
       " '\\n\\t\\t\\t\\t\\t\\t\\t\\t\\tThương hiệu: BBT Global\\n\\n\\t\\t\\t\\t\\t\\tSố gạch xếp: 33 viên\\n\\n\\t\\t\\t\\t\\t\\tXếp hình thông minh BBT Global được làm từ nhựa nguyên sinh nhập khẩu từ Hàn Quốc\\n\\n\\t\\t\\t\\t\\t\\t✪ Đồ chơi chất lượng cao được sản xuất theo Tiêu chuẩn Châu Âu,có chứng nhận của Tổng cục TCĐL Chất lượng, NK và PP bởi cty BBT Việt Nam, số 1 về đồ chơi trẻ em, đồ chơi cho bé an toàn, thiết bị giáo dục và thiết bị khu vui chơi giải trí, website:babycuatoi.vn- thietbivuichoi.vn\\n\\t\\t\\t\\t\\t',\n",
       " '\\n\\t\\t\\t\\t\\t\\t\\t\\t\\t- Thương hiệu: BBT GLOBAL\\n\\n\\t\\t\\t\\t\\t\\t- Kích thước hộp: 33*25*9cm\\n\\n\\t\\t\\t\\t\\t\\t- Dành cho bé 3+\\n\\n\\t\\t\\t\\t\\t\\t- Gồm 97 chi tiết\\n\\n\\t\\t\\t\\t\\t\\t- Được làm từ nhựa nguyên sinh an toàn cho bé\\n\\n\\t\\t\\t\\t\\t\\t- Thiết kế 2 trong 1: bé chơi xếp hình và chơi thả bóng cực kỳ thích thú\\n\\t\\t\\t\\t\\t',\n",
       " '\\n\\t\\t\\t\\t\\t\\t\\t\\t\\t- Thương hiệu: BBT Global\\n\\n\\t\\t\\t\\t\\t\\t- Kích thước: 42 x 6.8 x 30cm\\n\\n\\t\\t\\t\\t\\t\\t- Combo 2 khủng long sẽ gồm 742 chi tiết\\n\\n\\t\\t\\t\\t\\t\\t- Ba Mẹ có thể mua lẻ bộ: khủng long bay xanh(352 chi tiết), khủng long bạo chúa nâu(390 chi tiết)\\n\\n\\t\\t\\t\\t\\t\\t- Bao gồm: Các mảnh ghép và tờ hướng dẫn lắp ráp\\n\\n\\t\\t\\t\\t\\t\\t- Dành cho bé 6+\\n\\n\\t\\t\\t\\t\\t\\t- Chất liệu: nhựa nguyên sinh an toàn cho bé\\n\\n\\t\\t\\t\\t\\t\\t- Sản phẩm chất lượng cao được sản xuất theo tiêu chuẩn xuất khẩu Châu Âu\\n\\n\\t\\t\\t\\t\\t\\t- Đạt tiêu chuẩn: CE, CR, CQ - đảm bảo an toàn cho bé\\n\\t\\t\\t\\t\\t',\n",
       " '\\n\\t\\t\\t\\t\\t\\t\\t\\t\\t- Thương hiệu: BBT GLOBAL\\n\\n\\t\\t\\t\\t\\t\\t- Kích thước hộp: 46*30*2cm\\n\\n\\t\\t\\t\\t\\t\\t- Chất liệu: nhựa nguyên sinh an toàn cho bé\\n\\n\\t\\t\\t\\t\\t\\t- Chiếc tàu kéo thêm 2 toa phía sau có sử dụng pin\\n\\t\\t\\t\\t\\t',\n",
       " '\\n\\t\\t\\t\\t\\t\\t\\t\\t\\t- Chất liệu: Mô hình được làm từ xốp EPS tráng 2 lớp giấy\\n\\n\\t\\t\\t\\t\\t\\t- Lắp ráp hình 3D mô phỏng, kích thích trí tưởng tượng cho bé \\n\\n\\t\\t\\t\\t\\t\\t- Tháo lắp dễ dàng, mô hình tàu hải tặc trong bộ phim hoạt hình được nhiều bé yêu thích\\n\\n\\t\\t\\t\\t\\t\\t- Mỗi mô hình gồm 4 tấm chi tiết dập sẵn với kích thước mỗi tấm 29x21cm - đây là SIZE TO NHẤT\\n\\t\\t\\t\\t\\t',\n",
       " '\\n\\t\\t\\t\\t\\t\\t\\t\\t\\t✪ Thương hiệu: BBT Global\\n\\n\\t\\t\\t\\t\\t\\t✪ KT hộp: 20*16*5cm, Với 98 chi tiết nhỏ để bé thỏa sức sáng tạo, rèn luyện tư duy\\n\\n\\t\\t\\t\\t\\t\\t✪ Độ tuổi sử dụng: 6+\\n\\n\\t\\t\\t\\t\\t\\t✪ Xếp hình thông minh COGO được làm từ nhựa nguyên sinh nhập khẩu từ Hàn Quốc, sản xuất trên dây truyền công nghệ hiện đại của Châu Âu \\n\\n\\t\\t\\t\\t\\t\\t✪ Đồ chơi chất lượng cao được sản xuất theo Tiêu chuẩn Châu Âu,có chứng nhận của Tổng cục TCĐL Chất lượng, NK và PP bởi cty BBT Việt Nam, số 1 về đồ chơi trẻ em, đồ chơi cho bé an toàn, thiết bị giáo dục và thiết bị khu vui chơi\\n\\t\\t\\t\\t\\t',\n",
       " '\\n\\t\\t\\t\\t\\t\\t\\t\\t\\t\\n\\t\\t\\t\\t\\t',\n",
       " '\\n\\t\\t\\t\\t\\t\\t\\t\\t\\t\\n\\t\\t\\t\\t\\t',\n",
       " '\\n\\t\\t\\t\\t\\t\\t\\t\\t\\t- Thương hiệu: BBT Global\\n\\n\\t\\t\\t\\t\\t\\t- Độ tuổi: 3+\\n\\n\\t\\t\\t\\t\\t\\t- Với 70 chi tiết cho bé thỏa sức xếp hình ngôi nhà, vòng quay mặt trời...\\n\\n\\t\\t\\t\\t\\t\\t- Chất liệu: nhựa nguyên sinh an toàn cho bé, cạnh có nam châm giúp các chi tiết liên kết với nhau\\n\\t\\t\\t\\t\\t',\n",
       " '\\n\\t\\t\\t\\t\\t\\t\\t\\t\\t✪ Thương hiệu: BBT GLOBAL\\n\\n\\t\\t\\t\\t\\t\\t✪ Dùng cho bé: 2 tuổi trở lên \\n\\n\\t\\t\\t\\t\\t\\t✪ Kích thước: 116,8*84*21,9cm, gồm 121 chi tiết cho bé lắp ghép mô hình thị trấn vui nhộn, kích thích trí tưởng tượng cho bé\\n\\n\\t\\t\\t\\t\\t\\t✪ Đồ chơi chất lượng cao được sản xuất theo Tiêu chuẩn Châu Âu,có chứng nhận của Tổng cục TCĐL Chất lượng, NK và PP bởi cty BBT Việt Nam, số 1 về đồ chơi trẻ em, đồ chơi cho bé an toàn, thiết bị giáo dục và thiết bị khu vui chơi giải trí, website:babycuatoi.vn\\n\\t\\t\\t\\t\\t',\n",
       " '\\n\\t\\t\\t\\t\\t\\t\\t\\t\\tThương hiệu: BBT Global\\n\\n\\t\\t\\t\\t\\t\\tSố gạch xếp: 73 viên\\n\\n\\t\\t\\t\\t\\t\\tXếp hình thông minh BBT Global được làm từ nhựa nguyên sinh nhập khẩu từ Hàn Quốc\\n\\n\\t\\t\\t\\t\\t\\t✪ Đồ chơi chất lượng cao được sản xuất theo Tiêu chuẩn Châu Âu,có chứng nhận của Tổng cục TCĐL Chất lượng, NK và PP bởi cty BBT Việt Nam, số 1 về đồ chơi trẻ em, đồ chơi cho bé an toàn, thiết bị giáo dục và thiết bị khu vui chơi giải trí, website:babycuatoi.vn- thietbivuichoi.vn\\n\\t\\t\\t\\t\\t',\n",
       " '\\n\\t\\t\\t\\t\\t\\t\\t\\t\\tThương hiệu: BBT Global\\n\\n\\t\\t\\t\\t\\t\\tSố chi tiết: 8 chi tiết tạo thành máy bay, phù hợp với các bé mới tập xếp hình\\n\\n\\t\\t\\t\\t\\t\\tXếp hình thông minh BBT Global được làm từ nhựa nguyên sinh nhập khẩu từ Hàn Quốc\\n\\n\\t\\t\\t\\t\\t\\t✪ Đồ chơi chất lượng cao được sản xuất theo Tiêu chuẩn Châu Âu,có chứng nhận của Tổng cục TCĐL Chất lượng, NK và PP bởi cty BBT Việt Nam, số 1 về đồ chơi trẻ em, đồ chơi cho bé an toàn, thiết bị giáo dục và thiết bị khu vui chơi giải trí, website:babycuatoi.vn- thietbivuichoi.vn\\n\\t\\t\\t\\t\\t',\n",
       " '\\n\\t\\t\\t\\t\\t\\t\\t\\t\\tThương hiệu: BBT Global\\n\\n\\t\\t\\t\\t\\t\\tBao gồm : 23 chi tiết xếp hình\\n\\n\\t\\t\\t\\t\\t\\tĐộ tuổi : 3+\\n\\n\\t\\t\\t\\t\\t\\tXếp hình thông minh BBT Global được làm từ nhựa nguyên sinh nhập khẩu từ Hàn Quốc, sản xuất trên dây truyền công  nghệ hiện đại của Châu Âu\\n\\n\\t\\t\\t\\t\\t\\t✪ Đồ chơi chất lượng cao được sản xuất theo Tiêu chuẩn Châu Âu,có chứng nhận của Tổng cục TCĐL Chất lượng, NK và PP bởi cty BBT Việt Nam, số 1 về đồ chơi trẻ em, đồ chơi cho bé an toàn, thiết bị giáo dục và thiết bị khu vui chơi giải trí, website:babycuatoi.vn- thietbivuichoi.vn\\n\\t\\t\\t\\t\\t']"
      ]
     },
     "execution_count": 7,
     "metadata": {},
     "output_type": "execute_result"
    }
   ],
   "source": [
    "# Thông tin mô tả sản phẩm\n",
    "xpath = '//p[@class=\"des\"]'\n",
    "info= driver.find_elements(by=By.XPATH, value=xpath)\n",
    "info_list = []\n",
    "info_list = [x.get_attribute(\"textContent\") for x in info]\n",
    "info_list"
   ]
  },
  {
   "cell_type": "code",
   "execution_count": 8,
   "id": "b944a309-66de-446f-9680-2c7c93b2b598",
   "metadata": {
    "tags": []
   },
   "outputs": [
    {
     "data": {
      "text/plain": [
       "['https://sudospaces.com/babycuatoi/2022/09/clb-4-do-choi-xep-hinh-nam-cham-64-chi-tiet-cho-be-medium.jpg',\n",
       " 'https://sudospaces.com/babycuatoi/2022/10/clb-4-do-choi-xep-hinh-nam-cham-64-chi-tiet-cho-be-14-medium.jpg',\n",
       " 'https://sudospaces.com/babycuatoi/2022/08/5357-2-do-choi-gap-thu-bong-cho-be-1-1-medium.jpg',\n",
       " 'https://sudospaces.com/babycuatoi/2023/01/6688-123a-do-choi-xep-hinh-thong-minh-cho-be-1-medium.jpg',\n",
       " 'https://sudospaces.com/babycuatoi/2023/01/6688-123a-do-choi-xep-hinh-thong-minh-cho-be-1-1-medium.jpg']"
      ]
     },
     "execution_count": 8,
     "metadata": {},
     "output_type": "execute_result"
    }
   ],
   "source": [
    "# link hình ảnh sản phẩm\n",
    "xpath = '//div[@class=\"product-content\"]/div[@class=\"img\"]/a/img'\n",
    "picture= driver.find_elements(by=By.XPATH, value=xpath)\n",
    "picture_list = []\n",
    "picture_list = [x.get_attribute(\"src\") for x in picture]\n",
    "picture_list[:5]"
   ]
  },
  {
   "cell_type": "code",
   "execution_count": 9,
   "id": "6cf61573-c084-434e-a4c9-d48d64d3dbfe",
   "metadata": {
    "tags": []
   },
   "outputs": [
    {
     "name": "stdout",
     "output_type": "stream",
     "text": [
      "[249000, 189000, 629000, 199000, 319000]\n",
      "[0.2, 0.2, 0.2, 0.2, 0.2]\n"
     ]
    }
   ],
   "source": [
    "# Xử lý giá và tỉ lệ giảm giá\n",
    "price_list=[]\n",
    "rate_list=[]\n",
    "for i in range(len(price_rate_list)):\n",
    "    if price_rate_list[i]!=\"Liên hệ\":\n",
    "        price_list.append(int(re.sub(\"[.]\",\"\",re.findall(\"\\d+\\.\\d+\",price_rate_list[i])[0])))\n",
    "        k=re.findall(\"\\d+\\%\",price_rate_list[i])\n",
    "        rate_list.append(\"\"  if k==[] else int(re.sub(\"[%]\",\"\",k[0]))/100)\n",
    "    else:\n",
    "        price_list.append(None)\n",
    "        rate_list.append(None)\n",
    "print(price_list[:5])\n",
    "print(rate_list[:5])"
   ]
  },
  {
   "cell_type": "code",
   "execution_count": 10,
   "id": "4dac2751-ce15-489f-ba48-aa7ee524db6a",
   "metadata": {
    "tags": []
   },
   "outputs": [
    {
     "data": {
      "text/plain": [
       "['SẢN PHẨM LÀ HÀNG CAO CẤP, CÓ CHỨNG NHẬN CO,CQ xuất VAT FREE- Thương hiệu: BBT GLOBAL- Dành cho bé 3+- Số chi tiết: 64- Chất liệu nhựa nguyên sinh an toàn cho bé- Các chi tiết được gắn nam châm bên trong, giúp liên kết các chi tiết lại với nhau tạo thành hình khối chắc chắn- Các chi tiết được gắp nam châm bên trong cho bé thỏa sức sáng tạo xây dựng các hình không gian, kích thích trí tưởng tượng cho trẻ, bé thông minh hơn- Chất liệu nhựa nguyên sinh an toàn cho bé- Đạt tiêu chuẩn chất lượng Châu ÂU - CE- Có chứng nhận an toàn cho trẻ -  tiêu chuẩnCQ',\n",
       " 'SẢN PHẨM LÀ HÀNG CAO CẤP, CÓ CHỨNG NHẬN CO,CQ xuất VAT FREE- Thương hiệu: BBT GLOBAL- Dành cho bé 3+- Số chi tiết: 48- Chất liệu nhựa nguyên sinh an toàn cho bé- Các chi tiết được gắn nam châm bên trong, giúp liên kết các chi tiết lại với nhau tạo thành hình khối chắc chắn- Các chi tiết được gắp nam châm bên trong cho bé thỏa sức sáng tạo xây dựng các hình không gian, kích thích trí tưởng tượng cho trẻ, bé thông minh hơn- Chất liệu nhựa nguyên sinh an toàn cho bé- Đạt tiêu chuẩn chất lượng Châu ÂU - CE- Có chứng nhận an toàn cho trẻ -  tiêu chuẩnCQ',\n",
       " '- Thương hiệu: BBT GLOBAL- Kích thước: 40cm*30*23cm- Máy gắp thú mini gồm có 12 xu, 3 thú bông cao cấp và 8 hộp đựng kẹo lớn, bé có thể cho kẹo vào hộp và gắp để thưởng cho mình, có xu và sạc, có nhạc và đèn phát sáng vui nhộn- Dùng cho bé: 2 tuổi trở lên- Chất liệu: Nhựa nguyên sinh bền bỉ, thân thiện với trẻ- Hàng nhập khẩu tiêu chuẩn châu Âu - CE- Chứng nhận của Tổng cục Tiêu chuẩn Đo lường Chất lượng - CQ',\n",
       " '- Thương hiệu: BBT GLOBAL.- Dành cho bé 2+- 186 chi tiết.- Chất liệu nhựa ABS an toàn cho bé.- Các chi tiết lắp ghép giúp bé thỏa sức sáng tạo xây dựng các hình thù, kích thích trí tưởng tượng cho trẻ, bé thông minh hơn.- Chất liệu nhựa nguyên sinh an toàn cho bé.- Đạt tiêu chuẩn chất lượng Châu ÂU - CE.- Có chứng nhận an toàn cho trẻ - tiêu chuẩn CQ.',\n",
       " '- Thương hiệu: BBT Global- Dành cho bé 3+- Kích thước hộp: 44*10*28cm- Số chi tiết: 243- Mô hình công viên sở thú vui nhộn- Đồ chơi xếp hình cao cấp được làm từ nhựa nguyên sinh an toàn cho bé- Đạt tiêu chuẩn chất lượng Châu Âu-CE- Đã qua kiểm định chất lượng an toàn cho bé - CQ',\n",
       " '- Thương hiệu: BBT GLOBAL- Kích thước hộp: 27*27*5.5cm- Dành cho bé 2+- Chất liệu: nhựa nguyên sinh an toàn cho bé- Gồm đoàn tàu 8 toa và bộ số',\n",
       " '- Thương hiệu: BBT Global- Số chi tiết xếp: 45 chi tiết xếp hình thành đoàn tàu kèm sticker dán số và các phép tính cho bé vừa chơi vừa học- Xếp hình thông minh BBT Global được làm từ nhựa nguyên sinh, sản xuất trên dây truyền công  nghệ hiện đại của Châu Âu- Đồ chơi chất lượng cao được sản xuất theo Tiêu chuẩn Châu Âu,có chứng nhận của Tổng cục TCĐL Chất lượng, NK và PP bởi cty BBT Việt Nam, số 1 về đồ chơi trẻ em, đồ chơi cho bé an toàn, thiết bị giáo dục và thiết bị khu vui chơi giải trí, website:babycuatoi.vn- thietbivuichoi.vn',\n",
       " '- Thương hiệu: BBT GLOBAL- Dành cho bé 6+- Số chi tiết: 825- Kích thước hộp: 40*5*32cm- Mô hình cảnh sát 3 trong 1: Xe cảnh sát cỡ lớn, máy bay chiến đấu, robot. Ngoài ra còn có thể lắp ráp nhiều các xe tăng, thuyền chiến, trực thăng 8in1. Phát triển khả năng tư duy và óc sáng tạo cho trẻ. Các bé trai vô cùng thích thú khi nhận được món quà này- Chất liệu: nhựa nguyên sinh an toàn- Đạt tiêu chuẩn chất lượng Châu Âu - CE- Có chứng nhận an toàn của tổng cục tiêu chuẩn đo lường chất lượng Việt Nam - CQ',\n",
       " '- Thương hiệu: BBTGlobal - Độ tuổi sử dụng: 3+, gồm 48 chi tiết cho bé thỏa thích xếp hình và chơi thả bóng- Đồ chơi chất lượng cao được sản xuất theo Tiêu chuẩn Châu Âu,có chứng nhận của Tổng cục TCĐL Chất lượng, NK và PP bởi cty BBT Việt Nam, số 1 về đồ chơi trẻ em, đồ chơi cho bé an toàn, thiết bị giáo dục và thiết bị khu vui chơi giải trí, website:babycuatoi.vn - thietbivuichoi.vn',\n",
       " '- Thương hiệu: BBT GLOBAL- Dành cho bé 3+- Kích thước: 72*46*49cm- Trọn bộ gồm: Bàn 2 mặt Lego và mặt nhẵn, Ghế ngồi tai thỏ, 342 khối xếp hình cho bé thỏa sức sáng tạo, kích thích tư duy cho trẻ- Chất liệu: nhựa nguyên sinh an toàn cho bé- Bàn Lego cho bé đạt tiêu chuẩn chất lượng Châu Âu - CE- Có chứng nhận an toàn cho bé - CQ',\n",
       " '- Thương hiệu: BBT Global- Kích thước bàn: 61*61*52cm, ghế: 28*28*45cm- Dành cho bé: 1-10 tuổi- Mặt bàn 2 trong 1, tích hợp mặt bàn chơi lego cho bé- Ngoài ra ba mẹ có thể dùng làm bàn ăn, bàn học và bạn ngồi chơi cho bé (dùng mặt bàn nhẵn)- Màu sắc: kết hợp 3 màu trắng - vàng - xanh vô cùng trang nhã- Trọn bộ gồm: 1 bàn + 2 ghế + 4 hộp chứa đồ + 100 chi tiết xếp hình cỡ lớn- Chất liệu: nhựa nguyên sinh an toàn cho bé- Tiêu chuẩn: hàng xuất Châu Âu',\n",
       " '- Thương hiệu: BBT Global- Kích thước hộp: 42 x 7 x 30cm- Số chi tiết: 560 chi tiết bé thỏa sức lắp ráp- Dành cho bé 6+- Chất liệu: nhựa nguyên sinh an toàn cho bé- Sản phẩm chất lượng cao được sản xuất theo tiêu chuẩn xuất khẩu Châu Âu- Đạt tiêu chuẩn: CE, CR, CQ - đảm bảo an toàn cho bé',\n",
       " '- Thương hiệu: BBT GLOBAL- Kích thước bàn: 48.5*30.5*27.5cm- Chất liệu: nhựa nguyên sinh an toàn cho bé- Dành cho bé 2+- Bàn chơi lego đa năng cho bé ngồi học, ngồi ăn, chơi đồ chơi nước- Mặt bàn có nhiều ngăn rộng cho bé cất đồ chơi sau khi chơi xong',\n",
       " '- Thương hiệu: BBT Global- Kích thước bàn: 42x32x35cm, Ghế ngồi: 21x21x38cm- Kích thước hộp đựng: 54x9x43cm- Dành cho bé: 2+- Mặt bàn 2 trong 1, tích hợp mặt bàn chơi lego cho bé- Ngoài ra ba mẹ có thể dùng làm bàn ăn, bàn học và bạn ngồi chơi cho bé (dùng mặt bàn nhẵn)- Màu sắc: kết hợp 3 màu trắng - vàng - xanh vô cùng trang nhã- Trọn bộ gồm: 1 bàn + 1 ghế + 4 hộp chứa đồ + 105 chi tiết xếp hình cỡ lớn- Chất liệu: nhựa nguyên sinh an toàn cho bé- Tiêu chuẩn: hàng cao cấp xuất Châu Âu -CE',\n",
       " '- Thương hiệu: BBT GLOBAL.- Dành cho bé 6+- 564 chi tiết.- Chất liệu nhựa ABS an toàn cho bé.- Bộ đồ chơi gồm một xe thám hiểm vũ trụ và 1 tên lửa có giá đỡ.- Các chi tiết ghép nối giúp bé thỏa sức sáng tạo xây dựng các hình không gian, kích thích trí tưởng tượng cho trẻ, bé thông minh hơn.- Chất liệu nhựa nguyên sinh an toàn cho bé.- Đạt tiêu chuẩn chất lượng Châu ÂU - CE.- Có chứng nhận an toàn cho trẻ - tiêu chuẩn CQ.',\n",
       " '- Thương hiệu: BBT GLOBAL.- Dành cho bé 6+- 906 chi tiết.- Chất liệu nhựa ABS an toàn cho bé.- Bộ đồ chơi 8 trong 1 có thể lắp 1 chiếc tàu sân bay to hoặc 8 chiếc máy bay, tàu, xe khác.- Các chi tiết ghép nối giúp bé thỏa sức sáng tạo xây dựng các hình không gian, kích thích trí tưởng tượng cho trẻ, bé thông minh hơn.- Chất liệu nhựa nguyên sinh an toàn cho bé.- Đạt tiêu chuẩn chất lượng Châu ÂU - CE.- Có chứng nhận an toàn cho trẻ - tiêu chuẩn CQ.',\n",
       " '- Thương hiệu: BBT Global- Kích thước: 16,5 x 5 x 19,5cm- Bao gồm: Các mảnh ghép và tờ hướng dẫn lắp ráp- Dành cho bé 6+- Chất liệu: nhựa nguyên sinh an toàn cho bé- Sản phẩm chất lượng cao được sản xuất theo tiêu chuẩn xuất khẩu Châu Âu- Đạt tiêu chuẩn: CE, CR, CQ - đảm bảo an toàn cho bé',\n",
       " '',\n",
       " '- Thương hiệu: BBTGlobal - Gồm 216 chi tiết dành cho bé xếp hình lâu đài băng tuyết của công chúa ELSA trong bộ phim hoạt hình nổi tiếng FROZEN- Đồ chơi chất lượng cao được sản xuất theo Tiêu chuẩn Châu Âu,có chứng nhận của Tổng cục TCĐL Chất lượng, NK và PP bởi cty BBT Việt Nam, số 1 về đồ chơi trẻ em, đồ chơi cho bé an toàn, thiết bị giáo dục và thiết bị khu vui chơi giải trí, website:babycuatoi.vn',\n",
       " '- Mẫu đồ chơi lắp ráp mô hình 3D kiểu mới, giúp trẻ sáng tạo, kích thích trí tưởng tượng- Kích thước : 19x15.7x19.5cm- Chất liệu: - Hàng nhập khẩu đạt tiêu chuẩn Châu Âu (CE)- Chứng nhận an toàn của Tổng cục Tiêu chuẩn Đo lường Chất lượng (CQ)',\n",
       " '- Thương hiệu: BBT Global- Độ tuổi: 3+- Với 14 chi tiết cho bé lắp 2 chiếc xe ô tô xinh xắn- Chất liệu: nhựa nguyên sinh an toàn cho bé, cạnh có nam châm giúp các chi tiết liên kết với nhau',\n",
       " '- Thương hiệu: BBT Global- KT hộp: 20*16*5cm Với 115 chi tiết nhỏ để bé thỏa sức sáng tạo, rèn luyện tư duyƯ- Độ tuổi sử dụng: 6+- Xếp hình thông minh được làm từ nhựa nguyên sinh nhập khẩu từ Hàn Quốc, sản xuất trên dây truyền công nghệ hiện đại của Châu Âu - Đồ chơi chất lượng cao được sản xuất theo Tiêu chuẩn Châu Âu,có chứng nhận của Tổng cục TCĐL Chất lượng, NK và PP bởi cty BBT Việt Nam, số 1 về đồ chơi trẻ em, đồ chơi cho bé an toàn, thiết bị giáo dục và thiết bị khu vui chơi giải',\n",
       " '- Thương hiệu: BBT Global- Kích thước: 22.5x18x1.1cm- Chất liệu: gỗ an toàn- Dành cho bé từ 1.5 tuổi trở lên- Có các chủ đề khác nhau: xe cộ, các chữ số, rau củ quả...- Sản phẩm được sản xuất theo tiêu chuẩn xuất khẩu Châu Âu (CE)- Có chứng nhận chất lượng, đảm bảo an toàn cho bé (CQ)',\n",
       " '- Thương hiệu: BBT Global- Kích thước bàn: 42x32x35cm, Ghế ngồi: 21x21x38cm- Kích thước hộp đựng: 54x9x43cm- Dành cho bé: 2+- Mặt bàn 2 trong 1, tích hợp mặt bàn chơi lego cho bé- Ngoài ra ba mẹ có thể dùng làm bàn ăn, bàn học và bạn ngồi chơi cho bé (dùng mặt bàn nhẵn)- Màu sắc: kết hợp 3 màu trắng - vàng - xanh vô cùng trang nhã- Trọn bộ gồm: 1 bàn + 1 ghế + 4 hộp chứa đồ + 105 chi tiết xếp hình cỡ lớn- Chất liệu: nhựa nguyên sinh an toàn cho bé- Tiêu chuẩn: hàng cao cấp xuất Châu Âu -CE',\n",
       " '- Thương hiệu: BBT Global- Kích thước bàn: 56*43*43cm, ghế: 28*28*45cm- Kích thước hộp: 58*22*44cm- Trọn bộ gồm: 1 bàn + 1 ghế + 2 hộp chứa đồ + 60 chi tiết xếp hình cỡ lớn- Mặt bàn đa năng cho bé chơi, 1 mặt cho bé chơi lego, 1 mặt trơn cho bé làm bàn ăn, bàn học và bàn ngồi chơi- Dưới mặt bàn sẽ là 1 ngăn đựng đồ lớn cho bé đựng đồ chơi logo vô cùng tiện lợi- Chất liệu: nhựa nguyên sinh an toàn cho bé- Sản phẩm đạt tiêu chuẩn: EU(xuất Châu Âu), CR (Nhập khẩu về VN), CQ(kiểm định an toàn cho trẻ)',\n",
       " '',\n",
       " 'Thương hiệu: BBT GlobalSố gạch xếp: 13 viênXếp hình thông minh BBT Global được làm từ nhựa nguyên sinh nhập khẩu từ Hàn Quốc, sản xuất trên dây truyền công  nghệ hiện đại của Châu Âu- Đồ chơi chất lượng cao được sản xuất theo Tiêu chuẩn Châu Âu,có chứng nhận của Tổng cục TCĐL Chất lượng, NK và PP bởi cty BBT Việt Nam, số 1 về đồ chơi trẻ em, đồ chơi cho bé an toàn, thiết bị giáo dục và thiết bị khu vui chơi giải trí, website:babycuatoi.vn- thietbivuichoi.vn',\n",
       " '- Thương hiệu: BBT Global- Kích thước: 42,5 x 6,8 x 32,8cm- Bao gồm: Các mảnh ghép và tờ hướng dẫn lắp ráp- Dành cho bé 6+- Chất liệu: nhựa nguyên sinh an toàn cho bé- Sản phẩm chất lượng cao được sản xuất theo tiêu chuẩn xuất khẩu Châu Âu- Đạt tiêu chuẩn: CE, CR, CQ - đảm bảo an toàn cho bé',\n",
       " '- Thương hiệu: BBT Global- Tuổi:  6+ gồm 98 chi tiết, KT hộp đựng: 20×16×4.5CM, có thể xếp thành 1 phòng riêng cho bé với đàn piano, giường ngủ và tủ góc búp bê như hình minh họa- Xếp hình thông minh được làm từ nhựa nguyên sinh nhập khẩu từ Hàn Quốc, sản xuất trên dây truyền công nghệ hiện đại của Châu Âu - Đồ chơi chất lượng cao được sản xuất theo Tiêu chuẩn Châu Âu,có chứng nhận của Tổng cục TCĐL Chất lượng, NK và PP bởi cty BBT Việt Nam, số 1 về đồ chơi trẻ em, đồ chơi cho bé an toàn,',\n",
       " '- Thương hiệu: BBT Global- Kích thước: 16,5 x 5 x 19,5cm- Bao gồm: Các mảnh ghép và tờ hướng dẫn lắp ráp- Dành cho bé 5+- Chất liệu: nhựa nguyên sinh an toàn cho bé- Sản phẩm chất lượng cao được sản xuất theo tiêu chuẩn xuất khẩu Châu Âu- Đạt tiêu chuẩn: CE, CR, CQ - đảm bảo an toàn cho bé',\n",
       " 'Thương hiệu: BBT GlobalBao gồm : 21 chi tiết xếp hìnhĐộ tuổi : 3+Kích thước hộp:\\xa032-28,5-9cmChất liệu: nhựa nguyên sinh an toàn cho bé',\n",
       " '- Chất liệu: Mô hình được làm từ xốp EPS tráng 2 lớp giấy- Lắp ráp hình 3D mô phỏng, kích thích trí tưởng tượng cho bé - Tháo lắp dễ dàng, mô hình ngôi nhà màu hồng 2 tầng tuyệt đẹp- Mỗi mô hình gồm 4 tấm chi tiết dập sẵn với kích thước mỗi tấm 29x21cm - đây là SIZE TO NHẤT',\n",
       " '- Thương hiệu: BBT GLOBAL- Kích thước sau khi xếp thành khối: 50*29*27cm- Dành cho bé: 3+- Chất liệu: nhựa nguyên sinh đảm bảo an toàn cho bé- Cho bé chơi xếp hình khu rừng và muôn thú sau đó bé được chơi thử thách thả bóng, dẫn bóng về đích với thời gian nhanh nhất với 8 trái bóng sắc màu',\n",
       " '- Hãng sản xuất: Heanim Hàn Quốc- Giá chưa bao gồm VAT- Số chi tiết: 4 chi tiết- Thường được kết hợp với bộ xếp hình HN993 cho bé thỏa sức sáng tạo, xếp hình ngôi nhà cho bé cực xinh- Đồ chơi chất lượng cao được sản xuất theo Tiêu chuẩn Châu Âu,có chứng nhận của Tổng cục TCĐL Chất lượng, NK và PP bởi cty BBT Việt Nam, số 1 về đồ chơi trẻ em, đồ chơi cho bé an toàn, thiết bị giáo dục và thiết bị khu vui chơi giải trí, website:babycuatoi.vn- thietbivuichoi.vn',\n",
       " '- Thương hiệu: BBTGlobal - Độ tuổi sử dụng: 3+, gồm nhiều chi tiết cho bé thỏa thích sáng tạo- Đồ chơi chất lượng cao được sản xuất theo Tiêu chuẩn Châu Âu,có chứng nhận của Tổng cục TCĐL Chất lượng, NK và PP bởi cty BBT Việt Nam, số 1 về đồ chơi trẻ em, đồ chơi cho bé an toàn, thiết bị giáo dục và thiết bị khu vui chơi giải trí, website:babycuatoi.vn - thietbivuichoi.vn',\n",
       " '- Thương hiệu: BBT Global- Kích thước bàn: 56*43*43cm, ghế: 28*28*45cm- Kích thước hộp: 58*22*44cm- Trọn bộ gồm: 1 bàn + 2 ghế + 4 hộp chứa đồ + 60 chi tiết xếp hình cỡ lớn- Mặt bàn đa năng cho bé chơi, 1 mặt cho bé chơi lego, 1 mặt trơn cho bé làm bàn ăn, bàn học và bàn ngồi chơi- Dưới mặt bàn sẽ là 1 ngăn đựng đồ lớn cho bé đựng đồ chơi logo vô cùng tiện lợi- Chất liệu: nhựa nguyên sinh an toàn cho bé- Sản phẩm đạt tiêu chuẩn: EU(xuất Châu Âu), CR (Nhập khẩu về VN), CQ(kiểm định an toàn cho trẻ)',\n",
       " '- Thương hiệu: BBT Global- KT hộp: 26*21*6cm. Với 154 chi tiết nhỏ để bé thỏa sức sáng tạo, rèn luyện tư duy- Độ tuổi sử dụng: 6+- Xếp hình thông minh COGO được làm từ nhựa nguyên sinh nhập khẩu từ Hàn Quốc, sản xuất trên dây truyền công nghệ hiện đại của Châu Âu - Đồ chơi chất lượng cao được sản xuất theo Tiêu chuẩn Châu Âu,có chứng nhận của Tổng cục TCĐL Chất lượng, NK và PP bởi cty BBT Việt Nam, số 1 về đồ chơi trẻ em, đồ chơi cho bé an toàn, thiết bị giáo dục và thiết bị khu vui chơi',\n",
       " '',\n",
       " '- Chất liệu: Mô hình được làm từ xốp EPS tráng 2 lớp giấy- Lắp ráp hình 3D mô phỏng, kích thích trí tưởng tượng cho bé - Tháo lắp dễ dàng, mô hình máy bay quân sự được nhiều bé trai yêu thích, bổ sung vào bộ sưu tập mô hình của mình- Mỗi mô hình gồm 4 tấm chi tiết dập sẵn với kích thước mỗi tấm 29x21cm - đây là SIZE TO NHẤT',\n",
       " '- Thương hiệu: BBT Global- Độ tuổi: 3+- Với 40 chi tiết cho bé thỏa sức xếp hình ngôi nhà, vòng quay mặt trời...- Chất liệu: nhựa nguyên sinh an toàn cho bé, cạnh có nam châm giúp các chi tiết liên kết với nhau',\n",
       " '- Thương hiệu: BBTGlobal - tuổi sử dụng: 3+ gồm 92 viên gạch cho bé thỏa sức xếp hình- Xếp hình thông minh cho bé 5238 được làm từ nhựa nguyên sinh nhập khẩu từ Hàn Quốc, sản xuất trên dây truyền công nghệ hiện đại của Châu Âu - Đồ chơi chất lượng cao được sản xuất theo Tiêu chuẩn Châu Âu,có chứng nhận của Tổng cục TCĐL Chất lượng, NK và PP bởi cty BBT Việt Nam, số 1 về đồ chơi trẻ em, đồ chơi cho bé an toàn, thiết bị giáo dục và thiết bị khu vui chơi giải trí, website:babycuatoi.vn',\n",
       " '',\n",
       " 'Thương hiệu: BBT GlobalSố gạch xếp: 33 viênXếp hình thông minh BBT Global được làm từ nhựa nguyên sinh nhập khẩu từ Hàn Quốc- Đồ chơi chất lượng cao được sản xuất theo Tiêu chuẩn Châu Âu,có chứng nhận của Tổng cục TCĐL Chất lượng, NK và PP bởi cty BBT Việt Nam, số 1 về đồ chơi trẻ em, đồ chơi cho bé an toàn, thiết bị giáo dục và thiết bị khu vui chơi giải trí, website:babycuatoi.vn- thietbivuichoi.vn',\n",
       " '- Thương hiệu: BBT GLOBAL- Kích thước hộp: 33*25*9cm- Dành cho bé 3+- Gồm 97 chi tiết- Được làm từ nhựa nguyên sinh an toàn cho bé- Thiết kế 2 trong 1: bé chơi xếp hình và chơi thả bóng cực kỳ thích thú',\n",
       " '- Thương hiệu: BBT Global- Kích thước: 42 x 6.8 x 30cm- Combo 2 khủng long sẽ gồm 742 chi tiết- Ba Mẹ có thể mua lẻ bộ: khủng long bay xanh(352 chi tiết), khủng long bạo chúa nâu(390 chi tiết)- Bao gồm: Các mảnh ghép và tờ hướng dẫn lắp ráp- Dành cho bé 6+- Chất liệu: nhựa nguyên sinh an toàn cho bé- Sản phẩm chất lượng cao được sản xuất theo tiêu chuẩn xuất khẩu Châu Âu- Đạt tiêu chuẩn: CE, CR, CQ - đảm bảo an toàn cho bé',\n",
       " '- Thương hiệu: BBT GLOBAL- Kích thước hộp: 46*30*2cm- Chất liệu: nhựa nguyên sinh an toàn cho bé- Chiếc tàu kéo thêm 2 toa phía sau có sử dụng pin',\n",
       " '- Chất liệu: Mô hình được làm từ xốp EPS tráng 2 lớp giấy- Lắp ráp hình 3D mô phỏng, kích thích trí tưởng tượng cho bé - Tháo lắp dễ dàng, mô hình tàu hải tặc trong bộ phim hoạt hình được nhiều bé yêu thích- Mỗi mô hình gồm 4 tấm chi tiết dập sẵn với kích thước mỗi tấm 29x21cm - đây là SIZE TO NHẤT',\n",
       " '- Thương hiệu: BBT Global- KT hộp: 20*16*5cm, Với 98 chi tiết nhỏ để bé thỏa sức sáng tạo, rèn luyện tư duy- Độ tuổi sử dụng: 6+- Xếp hình thông minh COGO được làm từ nhựa nguyên sinh nhập khẩu từ Hàn Quốc, sản xuất trên dây truyền công nghệ hiện đại của Châu Âu - Đồ chơi chất lượng cao được sản xuất theo Tiêu chuẩn Châu Âu,có chứng nhận của Tổng cục TCĐL Chất lượng, NK và PP bởi cty BBT Việt Nam, số 1 về đồ chơi trẻ em, đồ chơi cho bé an toàn, thiết bị giáo dục và thiết bị khu vui chơi',\n",
       " '',\n",
       " '',\n",
       " '- Thương hiệu: BBT Global- Độ tuổi: 3+- Với 70 chi tiết cho bé thỏa sức xếp hình ngôi nhà, vòng quay mặt trời...- Chất liệu: nhựa nguyên sinh an toàn cho bé, cạnh có nam châm giúp các chi tiết liên kết với nhau',\n",
       " '- Thương hiệu: BBT GLOBAL- Dùng cho bé: 2 tuổi trở lên - Kích thước: 116,8*84*21,9cm, gồm 121 chi tiết cho bé lắp ghép mô hình thị trấn vui nhộn, kích thích trí tưởng tượng cho bé- Đồ chơi chất lượng cao được sản xuất theo Tiêu chuẩn Châu Âu,có chứng nhận của Tổng cục TCĐL Chất lượng, NK và PP bởi cty BBT Việt Nam, số 1 về đồ chơi trẻ em, đồ chơi cho bé an toàn, thiết bị giáo dục và thiết bị khu vui chơi giải trí, website:babycuatoi.vn',\n",
       " 'Thương hiệu: BBT GlobalSố gạch xếp: 73 viênXếp hình thông minh BBT Global được làm từ nhựa nguyên sinh nhập khẩu từ Hàn Quốc- Đồ chơi chất lượng cao được sản xuất theo Tiêu chuẩn Châu Âu,có chứng nhận của Tổng cục TCĐL Chất lượng, NK và PP bởi cty BBT Việt Nam, số 1 về đồ chơi trẻ em, đồ chơi cho bé an toàn, thiết bị giáo dục và thiết bị khu vui chơi giải trí, website:babycuatoi.vn- thietbivuichoi.vn',\n",
       " 'Thương hiệu: BBT GlobalSố chi tiết: 8 chi tiết tạo thành máy bay, phù hợp với các bé mới tập xếp hìnhXếp hình thông minh BBT Global được làm từ nhựa nguyên sinh nhập khẩu từ Hàn Quốc- Đồ chơi chất lượng cao được sản xuất theo Tiêu chuẩn Châu Âu,có chứng nhận của Tổng cục TCĐL Chất lượng, NK và PP bởi cty BBT Việt Nam, số 1 về đồ chơi trẻ em, đồ chơi cho bé an toàn, thiết bị giáo dục và thiết bị khu vui chơi giải trí, website:babycuatoi.vn- thietbivuichoi.vn',\n",
       " 'Thương hiệu: BBT GlobalBao gồm : 23 chi tiết xếp hìnhĐộ tuổi : 3+Xếp hình thông minh BBT Global được làm từ nhựa nguyên sinh nhập khẩu từ Hàn Quốc, sản xuất trên dây truyền công  nghệ hiện đại của Châu Âu- Đồ chơi chất lượng cao được sản xuất theo Tiêu chuẩn Châu Âu,có chứng nhận của Tổng cục TCĐL Chất lượng, NK và PP bởi cty BBT Việt Nam, số 1 về đồ chơi trẻ em, đồ chơi cho bé an toàn, thiết bị giáo dục và thiết bị khu vui chơi giải trí, website:babycuatoi.vn- thietbivuichoi.vn']"
      ]
     },
     "execution_count": 10,
     "metadata": {},
     "output_type": "execute_result"
    }
   ],
   "source": [
    "# Xử lý thông tin mô tả\n",
    "info_list = [re.sub(\"[✔✪]\",\"-\",re.sub(\"[\\n\\t]\",\"\",x)) for x in info_list]\n",
    "info_list"
   ]
  },
  {
   "cell_type": "code",
   "execution_count": 11,
   "id": "84134a68-04dd-4e43-8f51-5c0dff67b5ce",
   "metadata": {
    "tags": []
   },
   "outputs": [
    {
     "data": {
      "text/plain": [
       "['clb-4-do-choi-xep-hinh-nam-cham-64-chi-tiet-cho-be-medium.jpg',\n",
       " 'clb-4-do-choi-xep-hinh-nam-cham-64-chi-tiet-cho-be-14-medium.jpg',\n",
       " '5357-2-do-choi-gap-thu-bong-cho-be-1-1-medium.jpg',\n",
       " '6688-123a-do-choi-xep-hinh-thong-minh-cho-be-1-medium.jpg',\n",
       " '6688-123a-do-choi-xep-hinh-thong-minh-cho-be-1-1-medium.jpg']"
      ]
     },
     "execution_count": 11,
     "metadata": {},
     "output_type": "execute_result"
    }
   ],
   "source": [
    "# Tên hình ảnh\n",
    "picture_name=[x.split(\"/\")[-1] for x in picture_list]\n",
    "picture_name[:5]"
   ]
  },
  {
   "cell_type": "code",
   "execution_count": 12,
   "id": "bad54063-ccca-4c77-87c0-dd268c99368f",
   "metadata": {
    "tags": []
   },
   "outputs": [
    {
     "data": {
      "text/plain": [
       "(55, 55, 55, 55, 55, 55)"
      ]
     },
     "execution_count": 12,
     "metadata": {},
     "output_type": "execute_result"
    }
   ],
   "source": [
    "# Kiểm tra dữ liệu có đủ không\n",
    "len(name_list),len(price_list),len(rate_list),len(picture_list),len(picture_name), len(info_list)"
   ]
  },
  {
   "cell_type": "code",
   "execution_count": 14,
   "id": "aca6ffb1-46a8-46ac-83de-0dbbcb01f254",
   "metadata": {
    "tags": []
   },
   "outputs": [],
   "source": [
    "# Tạo datafram\n",
    "df=pd.DataFrame({\"Name\":name_list,\"Price\":price_list,\"Discount\":rate_list,\"Picture\":picture_name,\"Info\":info_list})"
   ]
  },
  {
   "cell_type": "code",
   "execution_count": 15,
   "id": "715b2723-73a2-4c5f-ad8a-759806746ed5",
   "metadata": {
    "tags": []
   },
   "outputs": [],
   "source": [
    "# Lưu thành file\n",
    "df.to_csv('Products.csv', index=False)\n",
    "#df.to_excel('Products.xlsx', index=False)"
   ]
  },
  {
   "cell_type": "code",
   "execution_count": null,
   "id": "c6151f16-adc1-4961-a008-d247ceffff9f",
   "metadata": {
    "tags": []
   },
   "outputs": [],
   "source": []
  },
  {
   "cell_type": "code",
   "execution_count": null,
   "id": "450d079d-8194-4ed2-8374-5ae25372814c",
   "metadata": {},
   "outputs": [],
   "source": []
  }
 ],
 "metadata": {
  "kernelspec": {
   "display_name": "Python 3 (ipykernel)",
   "language": "python",
   "name": "python3"
  },
  "language_info": {
   "codemirror_mode": {
    "name": "ipython",
    "version": 3
   },
   "file_extension": ".py",
   "mimetype": "text/x-python",
   "name": "python",
   "nbconvert_exporter": "python",
   "pygments_lexer": "ipython3",
   "version": "3.10.9"
  }
 },
 "nbformat": 4,
 "nbformat_minor": 5
}
